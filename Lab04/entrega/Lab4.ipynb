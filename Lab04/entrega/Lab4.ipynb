{
 "cells": [
  {
   "cell_type": "markdown",
   "source": [
    "1 Verificacón firma"
   ],
   "metadata": {
    "collapsed": false,
    "pycharm": {
     "name": "#%% md\n"
    }
   }
  },
  {
   "cell_type": "code",
   "execution_count": 9,
   "outputs": [],
   "source": [
    "import hashlib\n",
    "import sympy\n",
    "from ecpy.curves import Curve, Point"
   ],
   "metadata": {
    "collapsed": false,
    "pycharm": {
     "name": "#%%\n"
    }
   }
  },
  {
   "cell_type": "code",
   "execution_count": 10,
   "outputs": [
    {
     "name": "stdout",
     "output_type": "stream",
     "text": [
      "El orden es primo? True\n",
      "El generador es de la curva? True\n",
      "La clave pública es de la curva? True\n",
      "Punto del infinito? inf\n",
      "Punto del infinito? inf\n"
     ]
    }
   ],
   "source": [
    "p = 2**256-2**224+2**192+2**96-1\n",
    "orden = 115792089210356248762697446949407573529996955224135760342422259061068512044369\n",
    "a = -3\n",
    "b =  0x5ac635d8aa3a93e7b3ebbd55769886bc651d06b0cc53b0f63bce3c3e27d2604b\n",
    "Gx = 0x6b17d1f2e12c4247f8bce6e563a440f277037d812deb33a0f4a13945d898c296\n",
    "Gy = 0x4fe342e2fe1a7f9b8ee7eb4a7c0f9e162bce33576b315ececbb6406837bf51f5\n",
    "\n",
    "print(f'El orden es primo? {sympy.isprime(orden)}')\n",
    "\n",
    "publicKey_WikipediaX = 0xdedb39245f4d61ed2e9b2f892c9d2e7b9d56283c2e4feb71cf410839b825e15a\n",
    "publicKey_WikipediaY = 0x175d2cb9e5def9e95e17028dd3e6a7a4b42542c4a98e134b4d0a50356e6f67b3\n",
    "\n",
    "#Se define la curva\n",
    "E = Curve.get_curve('secp256r1')\n",
    "\n",
    "# Se definen dos puntos\n",
    "G = Point(Gx, Gy, E)\n",
    "publicKey_Wikipedia = Point(publicKey_WikipediaX, publicKey_WikipediaY, E)\n",
    "\n",
    "print(f'El generador es de la curva? {E.is_on_curve(G)}')\n",
    "print(f'La clave pública es de la curva? {E.is_on_curve(publicKey_Wikipedia)}')\n",
    "print(f'Punto del infinito? {orden*G}')\n",
    "print(f'Punto del infinito? {orden*publicKey_Wikipedia}')"
   ],
   "metadata": {
    "collapsed": false,
    "pycharm": {
     "name": "#%%\n"
    }
   }
  },
  {
   "cell_type": "code",
   "execution_count": 11,
   "outputs": [
    {
     "name": "stdout",
     "output_type": "stream",
     "text": [
      "Firma correcta? True\n"
     ]
    }
   ],
   "source": [
    "octet_0x20_repeated_64_times='20'*64\n",
    "# print(bytes(bytearray('TLS 1.3, server CertificateVerify',encoding='ascii')).hex())\n",
    "The_context_string='544c5320312e332c20736572766572204365727469666963617465566572696679'\n",
    "byte_separator='00'\n",
    "The_Transcript_Hash='6f530450785f22023b58ae6a77ec084b0bdf006ba32434f004825da581aff30482cf7660599494f1a8cf77f3be134e79'\n",
    "to_hash=octet_0x20_repeated_64_times+The_context_string+byte_separator+The_Transcript_Hash\n",
    "# Algoritmo de firma para Certificate Verify ecdsa_secp256r1_sha256 ===> SHA256\n",
    "h_aux=hashlib.sha256(bytes(bytearray.fromhex(to_hash)))\n",
    "h=int(h_aux.hexdigest(),16)\n",
    "\n",
    "#Signature=30.45.02.20.\n",
    "# 7e3dea07f51111cec2b67135bdce072199854d2dc874b3b6ad956aa274c02702.\n",
    "# 02.21.\n",
    "# 00f29a9c8a63661a8436d6f0bab49d338a7a15ac5f7432399d3d52d429e0602343\n",
    "# 30 indica que es una secuencia\n",
    "# 45 indica la longitud de la secuencia en bytes (69 bytes)\n",
    "# 02 indica un entero\n",
    "# 20 indica la longitud del entero en bytes (32 bytes)\n",
    "# los siguientes 32 bytes son f1\n",
    "f1=0x7e3dea07f51111cec2b67135bdce072199854d2dc874b3b6ad956aa274c02702\n",
    "# 02 indica un entero\n",
    "# 21 indica la longitud del entero en bytes (33 bytes)\n",
    "# los siguientes 33 bytes son f2 (el byte inicial es 00 por el tema del complemento a 2)\n",
    "f2=0x00f29a9c8a63661a8436d6f0bab49d338a7a15ac5f7432399d3d52d429e0602343\n",
    "\n",
    "aux=pow(f2,-1,orden)\n",
    "w1=(h*aux)%orden\n",
    "w2=(f1*aux)%orden\n",
    "Q = publicKey_Wikipedia\n",
    "result = w1*G+w2*Q\n",
    "print('Firma correcta?', result.x%orden==f1)\n"
   ],
   "metadata": {
    "collapsed": false,
    "pycharm": {
     "name": "#%%\n"
    }
   }
  }
 ],
 "metadata": {
  "kernelspec": {
   "display_name": "Python 3",
   "language": "python",
   "name": "python3"
  },
  "language_info": {
   "codemirror_mode": {
    "name": "ipython",
    "version": 2
   },
   "file_extension": ".py",
   "mimetype": "text/x-python",
   "name": "python",
   "nbconvert_exporter": "python",
   "pygments_lexer": "ipython2",
   "version": "2.7.6"
  }
 },
 "nbformat": 4,
 "nbformat_minor": 0
}